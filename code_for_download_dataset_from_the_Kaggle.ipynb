{
  "nbformat": 4,
  "nbformat_minor": 0,
  "metadata": {
    "colab": {
      "provenance": [],
      "authorship_tag": "ABX9TyMaBuO+FT0g/GY6Z0AqpVGm",
      "include_colab_link": true
    },
    "kernelspec": {
      "name": "python3",
      "display_name": "Python 3"
    },
    "language_info": {
      "name": "python"
    }
  },
  "cells": [
    {
      "cell_type": "markdown",
      "metadata": {
        "id": "view-in-github",
        "colab_type": "text"
      },
      "source": [
        "<a href=\"https://colab.research.google.com/github/MudassirABBASSi/Deep-Learning-/blob/main/code_for_download_dataset_from_the_Kaggle.ipynb\" target=\"_parent\"><img src=\"https://colab.research.google.com/assets/colab-badge.svg\" alt=\"Open In Colab\"/></a>"
      ]
    },
    {
      "cell_type": "code",
      "execution_count": null,
      "metadata": {
        "id": "0myyu3eOW1ea"
      },
      "outputs": [],
      "source": [
        "# Create the Kaggle directory and copy your kaggle.json file there\n",
        "!mkdir -p ~/.kaggle\n",
        "!cp kaggle.json ~/.kaggle/\n",
        "\n",
        "# Set permissions for the kaggle.json file (optional, but recommended)\n",
        "!chmod 600 ~/.kaggle/kaggle.json\n",
        "\n",
        "# Download \"The Movies Dataset\" from Kaggle using its dataset identifier\n",
        "!kaggle datasets download -d rounakbanik/the-movies-dataset\n",
        "\n",
        "# Extract the downloaded ZIP file into the /content directory\n",
        "import zipfile\n",
        "\n",
        "zip_ref = zipfile.ZipFile('/content/the-movies-dataset.zip', 'r')\n",
        "zip_ref.extractall('/content')\n",
        "zip_ref.close()"
      ]
    }
  ]
}